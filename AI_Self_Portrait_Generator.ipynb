{
    "cells": [
        {
            "cell_type": "markdown",
            "metadata": {},
            "source": [
                "# **AI Self-Portrait Generator Using Twitter and Stable Diffusion**",
                "\n",
                "This notebook allows you to:\n",
                "- Collect Twitter replies to a specific tweet.\n",
                "- Analyze those replies to generate a text description of a visual appearance.\n",
                "- Use the description to create an AI-generated self-portrait using Stable Diffusion.\n",
                "- Post the image back to Twitter with a caption."
            ]
        },
        {
            "cell_type": "markdown",
            "metadata": {},
            "source": [
                "### **Requirements Before Starting:**\n",
                "1. **Twitter API Keys:** You need access to the Twitter API. Follow this [guide](https://developer.twitter.com/en/docs) to get your keys.\n",
                "2. **HuggingFace Token:** Get a free token from [HuggingFace](https://huggingface.co/settings/tokens) to use the Stable Diffusion model.\n",
                "3. **Google Colab Account:** This notebook runs entirely in Colab."
            ]
        },
        {
            "cell_type": "code",
            "execution_count": null,
            "metadata": {},
            "outputs": [],
            "source": [
                "# Install required libraries\n",
                "!pip install tweepy transformers diffusers huggingface_hub schedule spacy\n",
                "!python -m spacy download en_core_web_sm"
            ]
        },
        {
            "cell_type": "markdown",
            "metadata": {},
            "source": [
                "### Step 1: Twitter API Authentication\n",
                "Input your Twitter API keys below."
            ]
        },
        {
            "cell_type": "code",
            "execution_count": null,
            "metadata": {},
            "outputs": [],
            "source": [
                "import tweepy\n",
                "\n",
                "# Input your Twitter API credentials\n",
                "API_KEY = 'your_api_key'\n",
                "API_SECRET = 'your_api_secret'\n",
                "ACCESS_TOKEN = 'your_access_token'\n",
                "ACCESS_SECRET = 'your_access_secret'\n",
                "\n",
                "# Authenticate\n",
                "auth = tweepy.OAuth1UserHandler(API_KEY, API_SECRET, ACCESS_TOKEN, ACCESS_SECRET)\n",
                "api = tweepy.API(auth)\n",
                "print(\"Authenticated with Twitter API!\")"
            ]
        },
        {
            "cell_type": "markdown",
            "metadata": {},
            "source": [
                "### Step 2: Fetch Twitter Replies\n",
                "Provide the Tweet ID of the post you want to analyze."
            ]
        },
        {
            "cell_type": "code",
            "execution_count": null,
            "metadata": {},
            "outputs": [],
            "source": [
                "def fetch_replies(tweet_id, username):\n",
                "    replies = []\n",
                "    for tweet in tweepy.Cursor(api.search_tweets, q=f\"to:{username}\", since_id=tweet_id, tweet_mode='extended').items():\n",
                "        if tweet.in_reply_to_status_id == tweet_id:\n",
                "            replies.append(tweet.full_text)\n",
                "    return replies\n",
                "\n",
                "# Input Tweet ID and username\n",
                "tweet_id = 29952163  # Replace with your Tweet ID\n",
                "username = '@What_ilooklike'  # Replace with your Twitter username\n",
                "replies = fetch_replies(tweet_id, username)\n",
                "print(\"Fetched replies:\", replies)"
            ]
        },
        {
            "cell_type": "markdown",
            "metadata": {},
            "source": [
                "### Step 3: Process Replies\n",
                "Extract appearance-related details from the replies using NLP."
            ]
        },
        {
            "cell_type": "code",
            "execution_count": null,
            "metadata": {},
            "outputs": [],
            "source": [
                "from transformers import pipeline\n",
                "import spacy\n",
                "\n",
                "# Load models\n",
                "summarizer = pipeline(\"summarization\")\n",
                "nlp = spacy.load(\"en_core_web_sm\")\n",
                "\n",
                "# Process Replies\n",
                "def process_replies(replies):\n",
                "    descriptions = []\n",
                "    for reply in replies:\n",
                "        doc = nlp(reply)\n",
                "        for token in doc:\n",
                "            if token.pos_ == 'ADJ':\n",
                "                descriptions.append(token.text)\n",
                "    # Summarize output\n",
                "    summary = summarizer(description_text, max_length=50, min_length=10, do_sample=False)\n",
                "    return summary[0][\"summary_text\"]\n",
                "\n",
                "attributes = process_replies(replies)\n",
                "print(\"Extracted attributes:\", attributes)"
            ]
        },
        {
            "cell_type": "markdown",
            "metadata": {},
            "source": [
                "### Step 4: Generate Image\n",
                "Use Stable Diffusion to generate an AI-generated image based on the descriptions."
            ]
        },
        {
            "cell_type": "code",
            "execution_count": null,
            "metadata": {},
            "outputs": [],
            "source": [
                "from diffusers import StableDiffusionPipeline\n",
                "\n",
                "# Load Stable Diffusion\n",
                "pipe = StableDiffusionPipeline.from_pretrained(\"runwayml/stable-diffusion-v1-5\")\n",
                "pipe = pipe.to(\"cuda\")  # Use GPU for faster processing\n",
                "\n",
                "def generate_image(description, output_path=\"generated_image.png\"):\n",
                "    image = pipe(description).images[0]\n",
                "    image.save(output_path)\n",
                "    return output_path\n",
                "\n",
                "image_path = generate_image(attributes)\n",
                "print(\"Generated image saved at:\", image_path)"
            ]
        },
        {
            "cell_type": "markdown",
            "metadata": {},
            "source": [
                "### Step 5: Post Image to Twitter\n",
                "Share the generated image on Twitter."
            ]
        },
        {
            "cell_type": "code",
            "execution_count": null,
            "metadata": {},
            "outputs": [],
            "source": [
                "def post_image(image_path, caption):\n",
                "    api.update_status_with_media(filename=image_path, status=caption)\n",
                "\n",
                "post_image(image_path, \"Here’s what I look like today based on your replies!\")"
            ]
        }
    ],
    "metadata": {
        "kernelspec": {
            "display_name": "Python 3",
            "language": "python",
            "name": "python3"
        },
        "language_info": {
            "codemirror_mode": {
                "name": "ipython",
                "version": 3
            },
            "file_extension": ".py",
            "mimetype": "text/x-python",
            "name": "python",
            "nbconvert_exporter": "python",
            "pygments_lexer": "ipython3",
            "version": "3.8.16"
        }
    },
    "nbformat": 4,
    "nbformat_minor": 4
}